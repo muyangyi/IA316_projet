{
 "cells": [
  {
   "cell_type": "code",
   "execution_count": 1,
   "metadata": {},
   "outputs": [],
   "source": [
    "import pandas as pd\n",
    "import numpy as np\n",
    "import requests"
   ]
  },
  {
   "cell_type": "markdown",
   "metadata": {},
   "source": [
    "## Read data from server"
   ]
  },
  {
   "cell_type": "code",
   "execution_count": null,
   "metadata": {},
   "outputs": [],
   "source": [
    "user_id = '5PZFMN4UIV66SBO6A1KE'\n",
    "base_url = 'http://52.47.62.31'\n",
    "url_reset = base_url + '/reset'\n",
    "url_predict = base_url + '/predict'\n",
    "params = {'user_id': user_id}"
   ]
  },
  {
   "cell_type": "code",
   "execution_count": null,
   "metadata": {},
   "outputs": [],
   "source": [
    "r = requests.get(url=url_reset, params=params)\n",
    "data = r.json()\n",
    "\n",
    "nb_items = data['nb_items']\n",
    "nb_users = data['nb_users']\n",
    "user_history = data['user_history']\n",
    "item_history = data['item_history']\n",
    "rating_history = data['rating_history']\n",
    "\n",
    "next_user = data['next_user']\n",
    "next_item = data['next_item']"
   ]
  },
  {
   "cell_type": "markdown",
   "metadata": {},
   "source": [
    "## Test our api"
   ]
  },
  {
   "cell_type": "code",
   "execution_count": null,
   "metadata": {},
   "outputs": [],
   "source": [
    "url_test = 'http://127.0.0.1:5002'\n",
    "r = requests.get(url=url_test)\n",
    "print(r.text)"
   ]
  },
  {
   "cell_type": "markdown",
   "metadata": {},
   "source": [
    "### Train\n"
   ]
  },
  {
   "cell_type": "code",
   "execution_count": null,
   "metadata": {},
   "outputs": [],
   "source": [
    "url_train = 'http://127.0.0.1:5002/train'\n",
    "params = {'nb_users': nb_users, 'nb_items': nb_items, \n",
    "          'user_history': user_history, 'item_history': item_history, \n",
    "          'rating_history': rating_history}\n",
    "r = requests.post(url=url_train, json=params)\n",
    "print(r.text)"
   ]
  },
  {
   "cell_type": "markdown",
   "metadata": {},
   "source": [
    "### Predict"
   ]
  },
  {
   "cell_type": "code",
   "execution_count": null,
   "metadata": {},
   "outputs": [],
   "source": [
    "url_predict = 'http://127.0.0.1:5002/predict'\n",
    "params = {'user': next_user, 'item': next_item} \n",
    "r = requests.get(url=url_predict, params=params)\n",
    "r.json()"
   ]
  }
 ],
 "metadata": {
  "kernelspec": {
   "display_name": "Python 3",
   "language": "python",
   "name": "python3"
  },
  "language_info": {
   "codemirror_mode": {
    "name": "ipython",
    "version": 3
   },
   "file_extension": ".py",
   "mimetype": "text/x-python",
   "name": "python",
   "nbconvert_exporter": "python",
   "pygments_lexer": "ipython3",
   "version": "3.6.4"
  }
 },
 "nbformat": 4,
 "nbformat_minor": 2
}
