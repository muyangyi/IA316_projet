{
 "cells": [
  {
   "cell_type": "markdown",
   "metadata": {},
   "source": [
    "# Environment 1"
   ]
  },
  {
   "cell_type": "code",
   "execution_count": 1,
   "metadata": {
    "ExecuteTime": {
     "end_time": "2019-02-24T18:13:26.045048Z",
     "start_time": "2019-02-24T18:13:23.455659Z"
    }
   },
   "outputs": [
    {
     "name": "stderr",
     "output_type": "stream",
     "text": [
      "Using TensorFlow backend.\n"
     ]
    }
   ],
   "source": [
    "import pandas as pd\n",
    "import numpy as np\n",
    "import requests\n",
    "from time import sleep\n",
    "from keras.layers import Input, Embedding, Flatten, Dot\n",
    "from keras.models import Model"
   ]
  },
  {
   "cell_type": "markdown",
   "metadata": {},
   "source": [
    "This environment encode the classic explicit feedback setting with user, item and rating."
   ]
  },
  {
   "cell_type": "code",
   "execution_count": 2,
   "metadata": {
    "ExecuteTime": {
     "end_time": "2019-02-24T18:13:26.195196Z",
     "start_time": "2019-02-24T18:13:26.080521Z"
    }
   },
   "outputs": [],
   "source": [
    "# require:\n",
    "# user id\n",
    "# predicted_score for previous (user, item)\n",
    "\n",
    "# return:\n",
    "# rating, next_user, next_item\n",
    "r = requests.get(url='http://52.47.62.31/predict', \n",
    "                 params={'user_id': '5PZFMN4UIV66SBO6A1KE',\n",
    "                         'predicted_score': 0.1})\n",
    "\n",
    "data = r.json()"
   ]
  },
  {
   "cell_type": "code",
   "execution_count": 3,
   "metadata": {
    "ExecuteTime": {
     "end_time": "2019-02-24T18:13:26.626116Z",
     "start_time": "2019-02-24T18:13:26.615035Z"
    }
   },
   "outputs": [
    {
     "data": {
      "text/plain": [
       "{'next_item': 121, 'next_user': 35, 'rating': 2}"
      ]
     },
     "execution_count": 3,
     "metadata": {},
     "output_type": "execute_result"
    }
   ],
   "source": [
    "data"
   ]
  },
  {
   "cell_type": "code",
   "execution_count": 4,
   "metadata": {
    "ExecuteTime": {
     "end_time": "2019-02-24T18:13:27.371929Z",
     "start_time": "2019-02-24T18:13:27.368703Z"
    }
   },
   "outputs": [],
   "source": [
    "user_id = '0EFZ3W3H6IQRD9DDSPS2'\n",
    "base_url = 'http://52.47.62.31'\n",
    "url_reset = base_url + '/reset' # Restart the environment with new random values.\n",
    "url_predict = base_url + '/predict'\n",
    "params = {'user_id': user_id}"
   ]
  },
  {
   "cell_type": "code",
   "execution_count": 5,
   "metadata": {
    "ExecuteTime": {
     "end_time": "2019-02-24T18:13:29.370552Z",
     "start_time": "2019-02-24T18:13:28.484679Z"
    }
   },
   "outputs": [],
   "source": [
    "# json file\n",
    "r = requests.get(url=url_reset, params=params)\n",
    "data = r.json()"
   ]
  },
  {
   "cell_type": "code",
   "execution_count": 6,
   "metadata": {
    "ExecuteTime": {
     "end_time": "2019-02-24T18:13:29.415468Z",
     "start_time": "2019-02-24T18:13:29.411029Z"
    },
    "scrolled": false
   },
   "outputs": [
    {
     "data": {
      "text/plain": [
       "dict_keys(['item_history', 'nb_items', 'nb_users', 'next_item', 'next_user', 'rating_history', 'user_history'])"
      ]
     },
     "execution_count": 6,
     "metadata": {},
     "output_type": "execute_result"
    }
   ],
   "source": [
    "data.keys()"
   ]
  },
  {
   "cell_type": "code",
   "execution_count": 7,
   "metadata": {
    "ExecuteTime": {
     "end_time": "2019-02-24T18:13:30.341478Z",
     "start_time": "2019-02-24T18:13:30.337575Z"
    },
    "scrolled": true
   },
   "outputs": [],
   "source": [
    "nb_items = data['nb_items']\n",
    "nb_users = data['nb_users']\n",
    "user_history = data['user_history']\n",
    "item_history = data['item_history']\n",
    "rating_history = data['rating_history']\n",
    "\n",
    "next_user = data['next_user']\n",
    "next_item = data['next_item']"
   ]
  },
  {
   "cell_type": "markdown",
   "metadata": {},
   "source": [
    "# First method using simularity"
   ]
  },
  {
   "cell_type": "code",
   "execution_count": 8,
   "metadata": {
    "ExecuteTime": {
     "end_time": "2019-02-24T18:13:44.492695Z",
     "start_time": "2019-02-24T18:13:44.468956Z"
    }
   },
   "outputs": [
    {
     "data": {
      "text/html": [
       "<div>\n",
       "<style scoped>\n",
       "    .dataframe tbody tr th:only-of-type {\n",
       "        vertical-align: middle;\n",
       "    }\n",
       "\n",
       "    .dataframe tbody tr th {\n",
       "        vertical-align: top;\n",
       "    }\n",
       "\n",
       "    .dataframe thead th {\n",
       "        text-align: right;\n",
       "    }\n",
       "</style>\n",
       "<table border=\"1\" class=\"dataframe\">\n",
       "  <thead>\n",
       "    <tr style=\"text-align: right;\">\n",
       "      <th></th>\n",
       "      <th>user</th>\n",
       "      <th>item</th>\n",
       "      <th>rating</th>\n",
       "    </tr>\n",
       "  </thead>\n",
       "  <tbody>\n",
       "    <tr>\n",
       "      <th>0</th>\n",
       "      <td>32</td>\n",
       "      <td>216</td>\n",
       "      <td>3</td>\n",
       "    </tr>\n",
       "    <tr>\n",
       "      <th>1</th>\n",
       "      <td>97</td>\n",
       "      <td>70</td>\n",
       "      <td>5</td>\n",
       "    </tr>\n",
       "    <tr>\n",
       "      <th>2</th>\n",
       "      <td>50</td>\n",
       "      <td>106</td>\n",
       "      <td>1</td>\n",
       "    </tr>\n",
       "    <tr>\n",
       "      <th>3</th>\n",
       "      <td>53</td>\n",
       "      <td>254</td>\n",
       "      <td>2</td>\n",
       "    </tr>\n",
       "    <tr>\n",
       "      <th>4</th>\n",
       "      <td>51</td>\n",
       "      <td>173</td>\n",
       "      <td>1</td>\n",
       "    </tr>\n",
       "    <tr>\n",
       "      <th>5</th>\n",
       "      <td>1</td>\n",
       "      <td>236</td>\n",
       "      <td>4</td>\n",
       "    </tr>\n",
       "    <tr>\n",
       "      <th>6</th>\n",
       "      <td>31</td>\n",
       "      <td>276</td>\n",
       "      <td>3</td>\n",
       "    </tr>\n",
       "    <tr>\n",
       "      <th>7</th>\n",
       "      <td>95</td>\n",
       "      <td>154</td>\n",
       "      <td>2</td>\n",
       "    </tr>\n",
       "    <tr>\n",
       "      <th>8</th>\n",
       "      <td>63</td>\n",
       "      <td>50</td>\n",
       "      <td>5</td>\n",
       "    </tr>\n",
       "    <tr>\n",
       "      <th>9</th>\n",
       "      <td>72</td>\n",
       "      <td>98</td>\n",
       "      <td>3</td>\n",
       "    </tr>\n",
       "  </tbody>\n",
       "</table>\n",
       "</div>"
      ],
      "text/plain": [
       "   user  item  rating\n",
       "0    32   216       3\n",
       "1    97    70       5\n",
       "2    50   106       1\n",
       "3    53   254       2\n",
       "4    51   173       1\n",
       "5     1   236       4\n",
       "6    31   276       3\n",
       "7    95   154       2\n",
       "8    63    50       5\n",
       "9    72    98       3"
      ]
     },
     "execution_count": 8,
     "metadata": {},
     "output_type": "execute_result"
    }
   ],
   "source": [
    "# create dataframe\n",
    "df = pd.DataFrame(user_history, columns=['user'])\n",
    "df['item'] = item_history\n",
    "df['rating'] = rating_history\n",
    "df.head(10)"
   ]
  },
  {
   "cell_type": "code",
   "execution_count": 9,
   "metadata": {
    "ExecuteTime": {
     "end_time": "2019-02-24T18:13:45.124151Z",
     "start_time": "2019-02-24T18:13:45.102793Z"
    }
   },
   "outputs": [
    {
     "data": {
      "text/plain": [
       "array([[3., 1., 0., ..., 2., 3., 0.],\n",
       "       [0., 1., 0., ..., 0., 4., 0.],\n",
       "       [0., 1., 5., ..., 5., 0., 0.],\n",
       "       ...,\n",
       "       [0., 0., 0., ..., 0., 0., 0.],\n",
       "       [0., 0., 0., ..., 0., 0., 0.],\n",
       "       [0., 2., 2., ..., 0., 0., 5.]])"
      ]
     },
     "execution_count": 9,
     "metadata": {},
     "output_type": "execute_result"
    }
   ],
   "source": [
    "# matrix\n",
    "mat = df.pivot_table(values=['rating'], index=['user'], columns=['item'])\n",
    "\n",
    "ratings = mat.fillna(0).values\n",
    "ratings"
   ]
  },
  {
   "cell_type": "code",
   "execution_count": 10,
   "metadata": {
    "ExecuteTime": {
     "end_time": "2019-02-24T18:13:45.832510Z",
     "start_time": "2019-02-24T18:13:45.828733Z"
    }
   },
   "outputs": [
    {
     "name": "stdout",
     "output_type": "stream",
     "text": [
      "0.3333333333333333\n"
     ]
    }
   ],
   "source": [
    "num_non_zero = np.count_nonzero(ratings)\n",
    "print(num_non_zero/ratings.shape[0]/ratings.shape[1])"
   ]
  },
  {
   "cell_type": "code",
   "execution_count": 11,
   "metadata": {
    "ExecuteTime": {
     "end_time": "2019-02-24T18:13:46.286492Z",
     "start_time": "2019-02-24T18:13:46.282301Z"
    }
   },
   "outputs": [],
   "source": [
    "def similarity(ratings):\n",
    "    \n",
    "    r_user = (ratings>0).sum(axis=1)  \n",
    "    \n",
    "    m_user = np.divide(ratings.sum(axis=1) , r_user, where=r_user!=0)\n",
    "    \n",
    "    ratings_ctr = ratings.T - ((ratings.T!=0) * m_user)\n",
    "    ratings_ctr = ratings_ctr.T\n",
    "\n",
    "    sim = ratings_ctr.dot(ratings_ctr.T)\n",
    "    \n",
    "    norms = np.array([np.sqrt(np.diagonal(sim))])\n",
    "    sim = sim / norms / norms.T  \n",
    "\n",
    "    return sim"
   ]
  },
  {
   "cell_type": "code",
   "execution_count": 12,
   "metadata": {
    "ExecuteTime": {
     "end_time": "2019-02-24T18:13:46.726879Z",
     "start_time": "2019-02-24T18:13:46.724007Z"
    }
   },
   "outputs": [],
   "source": [
    "def phi(x):\n",
    "    return np.maximum(x, 0)"
   ]
  },
  {
   "cell_type": "code",
   "execution_count": 13,
   "metadata": {
    "ExecuteTime": {
     "end_time": "2019-02-24T18:13:47.246784Z",
     "start_time": "2019-02-24T18:13:47.238824Z"
    }
   },
   "outputs": [],
   "source": [
    "sim = similarity(ratings)\n",
    "sim = np.nan_to_num(sim)\n",
    "numerator = phi(sim).dot(ratings)\n",
    "denominator = phi(sim).dot(ratings > 0)\n",
    "pred_ratings = np.divide(numerator,denominator,where = denominator!=0)"
   ]
  },
  {
   "cell_type": "code",
   "execution_count": 14,
   "metadata": {
    "ExecuteTime": {
     "end_time": "2019-02-24T18:13:47.652525Z",
     "start_time": "2019-02-24T18:13:47.647611Z"
    }
   },
   "outputs": [
    {
     "data": {
      "text/plain": [
       "array([[3.38002595, 1.1047499 , 4.05589672, ..., 3.57295528, 3.85742683,\n",
       "        4.34060054],\n",
       "       [3.34582512, 1.09131062, 3.85489853, ..., 3.75465193, 3.89024779,\n",
       "        4.38870987],\n",
       "       [3.42233681, 1.13683375, 4.26858055, ..., 3.92658993, 3.97098096,\n",
       "        4.15364428],\n",
       "       ...,\n",
       "       [3.30707131, 1.17512476, 4.36590408, ..., 3.83264537, 3.98403301,\n",
       "        3.98721178],\n",
       "       [3.00745493, 1.44786724, 4.17043932, ..., 3.24883756, 3.24900082,\n",
       "        3.72617328],\n",
       "       [3.3511931 , 1.28375694, 3.63058044, ..., 3.41062634, 3.84594981,\n",
       "        4.42362447]])"
      ]
     },
     "execution_count": 14,
     "metadata": {},
     "output_type": "execute_result"
    }
   ],
   "source": [
    "pred_ratings"
   ]
  },
  {
   "cell_type": "code",
   "execution_count": 15,
   "metadata": {
    "ExecuteTime": {
     "end_time": "2019-02-24T18:14:05.737373Z",
     "start_time": "2019-02-24T18:13:48.147583Z"
    }
   },
   "outputs": [
    {
     "name": "stdout",
     "output_type": "stream",
     "text": [
      "mse:  1.1710260998661617\n",
      "mae:  0.9289682649843232\n"
     ]
    }
   ],
   "source": [
    "nb_samples = 100\n",
    "mse, mae = 0, 0\n",
    "prediction = 3\n",
    "\n",
    "for i in range(nb_samples):\n",
    "    sleep(0.05)\n",
    "    r = requests.get(url=url_predict, params=params)\n",
    "    d = r.json()\n",
    "\n",
    "    # error for last prediction\n",
    "    rating = d['rating']\n",
    "    mse += (rating - prediction) ** 2\n",
    "    mae += np.abs(rating - prediction)\n",
    "    \n",
    "    # predict next\n",
    "    next_user = d['next_user']\n",
    "    next_item = d['next_item']\n",
    "    prediction = pred_ratings[next_user, next_item]\n",
    "\n",
    "print('mse: ', mse/nb_samples)\n",
    "print('mae: ', mae/nb_samples)"
   ]
  },
  {
   "cell_type": "markdown",
   "metadata": {},
   "source": [
    "# Second method using simularity with biais"
   ]
  },
  {
   "cell_type": "code",
   "execution_count": 16,
   "metadata": {
    "ExecuteTime": {
     "end_time": "2019-02-24T18:15:13.484585Z",
     "start_time": "2019-02-24T18:15:13.479830Z"
    }
   },
   "outputs": [],
   "source": [
    "def predict_ratings_bias_sub(ratings,sim,phi=(lambda x:x)):\n",
    "\n",
    "    r_user = (ratings>0).sum(axis=1)\n",
    "    m_user = np.divide(ratings.sum(axis=1) , r_user, where=(r_user!=0))\n",
    "    ratings_moyens = np.dot(m_user.reshape(len(m_user),1), np.ones((1,ratings.shape[1])))\n",
    "   \n",
    "    wsum_sim = np.abs(phi(sim)).dot(ratings>0)\n",
    "    pred = ratings_moyens + np.divide(phi(sim).dot(ratings-(ratings>0)*ratings_moyens),wsum_sim, where= wsum_sim!=0)\n",
    "    \n",
    "    return np.minimum(5,np.maximum(1,pred))"
   ]
  },
  {
   "cell_type": "code",
   "execution_count": 17,
   "metadata": {
    "ExecuteTime": {
     "end_time": "2019-02-24T18:15:19.875203Z",
     "start_time": "2019-02-24T18:15:19.866288Z"
    }
   },
   "outputs": [
    {
     "data": {
      "text/plain": [
       "3.448876482337739"
      ]
     },
     "execution_count": 17,
     "metadata": {},
     "output_type": "execute_result"
    }
   ],
   "source": [
    "sim = similarity(ratings)\n",
    "pred_ratings = predict_ratings_bias_sub(ratings,sim,phi)\n",
    "pred_ratings[next_user][next_item]"
   ]
  },
  {
   "cell_type": "code",
   "execution_count": 18,
   "metadata": {
    "ExecuteTime": {
     "end_time": "2019-02-24T18:15:55.079861Z",
     "start_time": "2019-02-24T18:15:38.768900Z"
    }
   },
   "outputs": [
    {
     "name": "stdout",
     "output_type": "stream",
     "text": [
      "mse:  0.36283001867589126\n",
      "mae:  0.46155379493214643\n"
     ]
    }
   ],
   "source": [
    "from time import sleep\n",
    "\n",
    "nb_samples = 100\n",
    "mse, mae = 0, 0\n",
    "\n",
    "for i in range(nb_samples):\n",
    "    sleep(0.05)\n",
    "    r = requests.get(url=url_predict, params=params)\n",
    "    d = r.json()\n",
    "    rating = d['rating']\n",
    "#     print(f'user:{next_user}, item:{next_item}, ratiing:{rating}')\n",
    "    prediction = pred_ratings[next_user][next_item]\n",
    "    params['predicted_score'] =  prediction\n",
    "    \n",
    "    next_user = d['next_user']\n",
    "    next_item = d['next_item']\n",
    "    \n",
    "    mse += (rating - prediction)**2\n",
    "    mae += abs(rating - prediction)\n",
    "\n",
    "print('mse: ', mse/nb_samples)\n",
    "print('mae: ', mae/nb_samples)"
   ]
  },
  {
   "cell_type": "markdown",
   "metadata": {},
   "source": [
    "# Method 3 with Kears"
   ]
  },
  {
   "cell_type": "code",
   "execution_count": 38,
   "metadata": {
    "ExecuteTime": {
     "end_time": "2019-02-24T18:27:34.665106Z",
     "start_time": "2019-02-24T18:27:34.621134Z"
    }
   },
   "outputs": [
    {
     "name": "stdout",
     "output_type": "stream",
     "text": [
      "__________________________________________________________________________________________________\n",
      "Layer (type)                    Output Shape         Param #     Connected to                     \n",
      "==================================================================================================\n",
      "user (InputLayer)               (None, 1)            0                                            \n",
      "__________________________________________________________________________________________________\n",
      "item (InputLayer)               (None, 1)            0                                            \n",
      "__________________________________________________________________________________________________\n",
      "user_embedding (Embedding)      (None, 1, 50)        5050        user[0][0]                       \n",
      "__________________________________________________________________________________________________\n",
      "item_embedding (Embedding)      (None, 1, 50)        15050       item[0][0]                       \n",
      "__________________________________________________________________________________________________\n",
      "flatten_11 (Flatten)            (None, 50)           0           user_embedding[0][0]             \n",
      "__________________________________________________________________________________________________\n",
      "flatten_12 (Flatten)            (None, 50)           0           item_embedding[0][0]             \n",
      "__________________________________________________________________________________________________\n",
      "dot_6 (Dot)                     (None, 1)            0           flatten_11[0][0]                 \n",
      "                                                                 flatten_12[0][0]                 \n",
      "==================================================================================================\n",
      "Total params: 20,100\n",
      "Trainable params: 20,100\n",
      "Non-trainable params: 0\n",
      "__________________________________________________________________________________________________\n"
     ]
    }
   ],
   "source": [
    "# For each sample we input the integer identifiers\n",
    "# of a single user and a single item\n",
    "user_id_input = Input(shape=[1], name='user')\n",
    "item_id_input = Input(shape=[1], name='item')\n",
    "\n",
    "embedding_size = 50\n",
    "user_embedding = Embedding(output_dim=embedding_size, input_dim=nb_users + 1,\n",
    "                           input_length=1, name='user_embedding')(user_id_input)\n",
    "\n",
    "item_embedding = Embedding(output_dim=embedding_size, input_dim=nb_items + 1,\n",
    "                           input_length=1, name='item_embedding')(item_id_input)\n",
    "\n",
    "# reshape from shape: (batch_size, input_length, embedding_size)\n",
    "# to shape: (batch_size, input_length * embedding_size) which is\n",
    "# equal to shape: (batch_size, embedding_size)\n",
    "user_vecs = Flatten()(user_embedding)\n",
    "item_vecs = Flatten()(item_embedding)\n",
    "\n",
    "y = Dot(axes=1)([user_vecs, item_vecs])\n",
    "\n",
    "model = Model(inputs=[user_id_input, item_id_input], outputs=y)\n",
    "\n",
    "model.summary()"
   ]
  },
  {
   "cell_type": "code",
   "execution_count": 39,
   "metadata": {
    "ExecuteTime": {
     "end_time": "2019-02-24T18:27:34.963058Z",
     "start_time": "2019-02-24T18:27:34.931699Z"
    }
   },
   "outputs": [],
   "source": [
    "model.compile(optimizer='adamax', loss='mean_squared_error')"
   ]
  },
  {
   "cell_type": "code",
   "execution_count": 40,
   "metadata": {
    "ExecuteTime": {
     "end_time": "2019-02-24T18:27:35.355218Z",
     "start_time": "2019-02-24T18:27:35.179117Z"
    }
   },
   "outputs": [
    {
     "data": {
      "text/plain": [
       "(10000, 1)"
      ]
     },
     "execution_count": 40,
     "metadata": {},
     "output_type": "execute_result"
    }
   ],
   "source": [
    "# Useful for debugging the output shape of model\n",
    "initial_train_preds = model.predict([user_history, item_history])\n",
    "initial_train_preds.shape"
   ]
  },
  {
   "cell_type": "code",
   "execution_count": 41,
   "metadata": {
    "ExecuteTime": {
     "end_time": "2019-02-24T18:27:46.385009Z",
     "start_time": "2019-02-24T18:27:36.270417Z"
    }
   },
   "outputs": [
    {
     "name": "stdout",
     "output_type": "stream",
     "text": [
      "Train on 9000 samples, validate on 1000 samples\n",
      "Epoch 1/100\n",
      "9000/9000 [==============================] - 0s 31us/step - loss: 9.3232 - val_loss: 9.6130\n",
      "Epoch 2/100\n",
      "9000/9000 [==============================] - 0s 11us/step - loss: 9.2808 - val_loss: 9.5496\n",
      "Epoch 3/100\n",
      "9000/9000 [==============================] - 0s 11us/step - loss: 9.1177 - val_loss: 9.2751\n",
      "Epoch 4/100\n",
      "9000/9000 [==============================] - 0s 11us/step - loss: 8.6448 - val_loss: 8.5949\n",
      "Epoch 5/100\n",
      "9000/9000 [==============================] - 0s 11us/step - loss: 7.7280 - val_loss: 7.4681\n",
      "Epoch 6/100\n",
      "9000/9000 [==============================] - 0s 11us/step - loss: 6.4392 - val_loss: 6.0420\n",
      "Epoch 7/100\n",
      "9000/9000 [==============================] - 0s 11us/step - loss: 4.9801 - val_loss: 4.5597\n",
      "Epoch 8/100\n",
      "9000/9000 [==============================] - 0s 11us/step - loss: 3.6087 - val_loss: 3.2781\n",
      "Epoch 9/100\n",
      "9000/9000 [==============================] - 0s 10us/step - loss: 2.4987 - val_loss: 2.2823\n",
      "Epoch 10/100\n",
      "9000/9000 [==============================] - 0s 11us/step - loss: 1.6914 - val_loss: 1.5806\n",
      "Epoch 11/100\n",
      "9000/9000 [==============================] - 0s 13us/step - loss: 1.1615 - val_loss: 1.1330\n",
      "Epoch 12/100\n",
      "9000/9000 [==============================] - 0s 12us/step - loss: 0.8452 - val_loss: 0.8671\n",
      "Epoch 13/100\n",
      "9000/9000 [==============================] - 0s 11us/step - loss: 0.6736 - val_loss: 0.7216\n",
      "Epoch 14/100\n",
      "9000/9000 [==============================] - 0s 11us/step - loss: 0.5861 - val_loss: 0.6435\n",
      "Epoch 15/100\n",
      "9000/9000 [==============================] - 0s 11us/step - loss: 0.5431 - val_loss: 0.6031\n",
      "Epoch 16/100\n",
      "9000/9000 [==============================] - 0s 11us/step - loss: 0.5219 - val_loss: 0.5810\n",
      "Epoch 17/100\n",
      "9000/9000 [==============================] - 0s 11us/step - loss: 0.5108 - val_loss: 0.5684\n",
      "Epoch 18/100\n",
      "9000/9000 [==============================] - 0s 11us/step - loss: 0.5044 - val_loss: 0.5608\n",
      "Epoch 19/100\n",
      "9000/9000 [==============================] - 0s 11us/step - loss: 0.5008 - val_loss: 0.5603\n",
      "Epoch 20/100\n",
      "9000/9000 [==============================] - 0s 11us/step - loss: 0.4976 - val_loss: 0.5557\n",
      "Epoch 21/100\n",
      "9000/9000 [==============================] - 0s 11us/step - loss: 0.4949 - val_loss: 0.5531\n",
      "Epoch 22/100\n",
      "9000/9000 [==============================] - 0s 11us/step - loss: 0.4929 - val_loss: 0.5513\n",
      "Epoch 23/100\n",
      "9000/9000 [==============================] - 0s 11us/step - loss: 0.4899 - val_loss: 0.5474\n",
      "Epoch 24/100\n",
      "9000/9000 [==============================] - 0s 12us/step - loss: 0.4865 - val_loss: 0.5457\n",
      "Epoch 25/100\n",
      "9000/9000 [==============================] - 0s 11us/step - loss: 0.4830 - val_loss: 0.5445\n",
      "Epoch 26/100\n",
      "9000/9000 [==============================] - 0s 12us/step - loss: 0.4790 - val_loss: 0.5399\n",
      "Epoch 27/100\n",
      "9000/9000 [==============================] - 0s 13us/step - loss: 0.4743 - val_loss: 0.5364\n",
      "Epoch 28/100\n",
      "9000/9000 [==============================] - 0s 16us/step - loss: 0.4694 - val_loss: 0.5327\n",
      "Epoch 29/100\n",
      "9000/9000 [==============================] - 0s 10us/step - loss: 0.4633 - val_loss: 0.5290\n",
      "Epoch 30/100\n",
      "9000/9000 [==============================] - 0s 10us/step - loss: 0.4573 - val_loss: 0.5226\n",
      "Epoch 31/100\n",
      "9000/9000 [==============================] - 0s 11us/step - loss: 0.4510 - val_loss: 0.5175\n",
      "Epoch 32/100\n",
      "9000/9000 [==============================] - 0s 11us/step - loss: 0.4436 - val_loss: 0.5125\n",
      "Epoch 33/100\n",
      "9000/9000 [==============================] - 0s 11us/step - loss: 0.4351 - val_loss: 0.5042\n",
      "Epoch 34/100\n",
      "9000/9000 [==============================] - 0s 10us/step - loss: 0.4270 - val_loss: 0.4979\n",
      "Epoch 35/100\n",
      "9000/9000 [==============================] - 0s 11us/step - loss: 0.4174 - val_loss: 0.4888\n",
      "Epoch 36/100\n",
      "9000/9000 [==============================] - 0s 12us/step - loss: 0.4075 - val_loss: 0.4799\n",
      "Epoch 37/100\n",
      "9000/9000 [==============================] - 0s 11us/step - loss: 0.3970 - val_loss: 0.4697\n",
      "Epoch 38/100\n",
      "9000/9000 [==============================] - 0s 10us/step - loss: 0.3857 - val_loss: 0.4605\n",
      "Epoch 39/100\n",
      "9000/9000 [==============================] - 0s 10us/step - loss: 0.3736 - val_loss: 0.4497\n",
      "Epoch 40/100\n",
      "9000/9000 [==============================] - 0s 10us/step - loss: 0.3614 - val_loss: 0.4384\n",
      "Epoch 41/100\n",
      "9000/9000 [==============================] - 0s 10us/step - loss: 0.3485 - val_loss: 0.4268\n",
      "Epoch 42/100\n",
      "9000/9000 [==============================] - 0s 10us/step - loss: 0.3352 - val_loss: 0.4138\n",
      "Epoch 43/100\n",
      "9000/9000 [==============================] - 0s 10us/step - loss: 0.3216 - val_loss: 0.4017\n",
      "Epoch 44/100\n",
      "9000/9000 [==============================] - 0s 10us/step - loss: 0.3083 - val_loss: 0.3890\n",
      "Epoch 45/100\n",
      "9000/9000 [==============================] - 0s 10us/step - loss: 0.2943 - val_loss: 0.3762\n",
      "Epoch 46/100\n",
      "9000/9000 [==============================] - 0s 10us/step - loss: 0.2805 - val_loss: 0.3636\n",
      "Epoch 47/100\n",
      "9000/9000 [==============================] - 0s 10us/step - loss: 0.2671 - val_loss: 0.3506\n",
      "Epoch 48/100\n",
      "9000/9000 [==============================] - 0s 10us/step - loss: 0.2537 - val_loss: 0.3374\n",
      "Epoch 49/100\n",
      "9000/9000 [==============================] - 0s 10us/step - loss: 0.2408 - val_loss: 0.3242\n",
      "Epoch 50/100\n",
      "9000/9000 [==============================] - 0s 10us/step - loss: 0.2281 - val_loss: 0.3124\n",
      "Epoch 51/100\n",
      "9000/9000 [==============================] - 0s 10us/step - loss: 0.2159 - val_loss: 0.2996\n",
      "Epoch 52/100\n",
      "9000/9000 [==============================] - 0s 10us/step - loss: 0.2045 - val_loss: 0.2887\n",
      "Epoch 53/100\n",
      "9000/9000 [==============================] - 0s 9us/step - loss: 0.1937 - val_loss: 0.2777\n",
      "Epoch 54/100\n",
      "9000/9000 [==============================] - 0s 9us/step - loss: 0.1837 - val_loss: 0.2675\n",
      "Epoch 55/100\n",
      "9000/9000 [==============================] - 0s 10us/step - loss: 0.1744 - val_loss: 0.2579\n",
      "Epoch 56/100\n",
      "9000/9000 [==============================] - 0s 10us/step - loss: 0.1655 - val_loss: 0.2487\n",
      "Epoch 57/100\n",
      "9000/9000 [==============================] - 0s 10us/step - loss: 0.1574 - val_loss: 0.2399\n",
      "Epoch 58/100\n",
      "9000/9000 [==============================] - 0s 10us/step - loss: 0.1500 - val_loss: 0.2330\n",
      "Epoch 59/100\n",
      "9000/9000 [==============================] - 0s 10us/step - loss: 0.1434 - val_loss: 0.2255\n",
      "Epoch 60/100\n",
      "9000/9000 [==============================] - 0s 11us/step - loss: 0.1372 - val_loss: 0.2183\n",
      "Epoch 61/100\n",
      "9000/9000 [==============================] - 0s 10us/step - loss: 0.1314 - val_loss: 0.2123\n",
      "Epoch 62/100\n",
      "9000/9000 [==============================] - 0s 10us/step - loss: 0.1265 - val_loss: 0.2063\n",
      "Epoch 63/100\n",
      "9000/9000 [==============================] - 0s 10us/step - loss: 0.1216 - val_loss: 0.2016\n",
      "Epoch 64/100\n",
      "9000/9000 [==============================] - 0s 10us/step - loss: 0.1173 - val_loss: 0.1968\n",
      "Epoch 65/100\n",
      "9000/9000 [==============================] - 0s 10us/step - loss: 0.1135 - val_loss: 0.1926\n",
      "Epoch 66/100\n",
      "9000/9000 [==============================] - 0s 10us/step - loss: 0.1098 - val_loss: 0.1884\n",
      "Epoch 67/100\n",
      "9000/9000 [==============================] - 0s 10us/step - loss: 0.1063 - val_loss: 0.1852\n",
      "Epoch 68/100\n",
      "9000/9000 [==============================] - 0s 10us/step - loss: 0.1032 - val_loss: 0.1814\n",
      "Epoch 69/100\n",
      "9000/9000 [==============================] - 0s 10us/step - loss: 0.1003 - val_loss: 0.1794\n",
      "Epoch 70/100\n",
      "9000/9000 [==============================] - 0s 11us/step - loss: 0.0974 - val_loss: 0.1761\n",
      "Epoch 71/100\n",
      "9000/9000 [==============================] - 0s 11us/step - loss: 0.0949 - val_loss: 0.1736\n",
      "Epoch 72/100\n",
      "9000/9000 [==============================] - 0s 11us/step - loss: 0.0924 - val_loss: 0.1721\n",
      "Epoch 73/100\n",
      "9000/9000 [==============================] - 0s 11us/step - loss: 0.0902 - val_loss: 0.1702\n",
      "Epoch 74/100\n",
      "9000/9000 [==============================] - 0s 16us/step - loss: 0.0878 - val_loss: 0.1687\n",
      "Epoch 75/100\n",
      "9000/9000 [==============================] - 0s 12us/step - loss: 0.0858 - val_loss: 0.1671\n",
      "Epoch 76/100\n",
      "9000/9000 [==============================] - 0s 13us/step - loss: 0.0837 - val_loss: 0.1662\n",
      "Epoch 77/100\n",
      "9000/9000 [==============================] - 0s 13us/step - loss: 0.0816 - val_loss: 0.1639\n",
      "Epoch 78/100\n",
      "9000/9000 [==============================] - 0s 12us/step - loss: 0.0795 - val_loss: 0.1630\n",
      "Epoch 79/100\n",
      "9000/9000 [==============================] - 0s 11us/step - loss: 0.0775 - val_loss: 0.1607\n",
      "Epoch 80/100\n",
      "9000/9000 [==============================] - 0s 11us/step - loss: 0.0756 - val_loss: 0.1600\n",
      "Epoch 81/100\n",
      "9000/9000 [==============================] - 0s 10us/step - loss: 0.0737 - val_loss: 0.1593\n",
      "Epoch 82/100\n",
      "9000/9000 [==============================] - 0s 10us/step - loss: 0.0718 - val_loss: 0.1581\n",
      "Epoch 83/100\n",
      "9000/9000 [==============================] - 0s 10us/step - loss: 0.0699 - val_loss: 0.1574\n",
      "Epoch 84/100\n",
      "9000/9000 [==============================] - 0s 12us/step - loss: 0.0680 - val_loss: 0.1567\n",
      "Epoch 85/100\n",
      "9000/9000 [==============================] - 0s 11us/step - loss: 0.0662 - val_loss: 0.1556\n",
      "Epoch 86/100\n",
      "9000/9000 [==============================] - 0s 10us/step - loss: 0.0644 - val_loss: 0.1546\n",
      "Epoch 87/100\n",
      "9000/9000 [==============================] - 0s 10us/step - loss: 0.0628 - val_loss: 0.1541\n",
      "Epoch 88/100\n",
      "9000/9000 [==============================] - 0s 10us/step - loss: 0.0610 - val_loss: 0.1535\n",
      "Epoch 89/100\n",
      "9000/9000 [==============================] - 0s 11us/step - loss: 0.0592 - val_loss: 0.1528\n",
      "Epoch 90/100\n",
      "9000/9000 [==============================] - 0s 12us/step - loss: 0.0574 - val_loss: 0.1523\n",
      "Epoch 91/100\n",
      "9000/9000 [==============================] - 0s 11us/step - loss: 0.0558 - val_loss: 0.1523\n",
      "Epoch 92/100\n",
      "9000/9000 [==============================] - 0s 11us/step - loss: 0.0541 - val_loss: 0.1518\n",
      "Epoch 93/100\n",
      "9000/9000 [==============================] - 0s 12us/step - loss: 0.0525 - val_loss: 0.1518\n",
      "Epoch 94/100\n",
      "9000/9000 [==============================] - 0s 11us/step - loss: 0.0508 - val_loss: 0.1515\n",
      "Epoch 95/100\n",
      "9000/9000 [==============================] - 0s 11us/step - loss: 0.0494 - val_loss: 0.1510\n",
      "Epoch 96/100\n",
      "9000/9000 [==============================] - 0s 11us/step - loss: 0.0478 - val_loss: 0.1510\n",
      "Epoch 97/100\n",
      "9000/9000 [==============================] - 0s 11us/step - loss: 0.0462 - val_loss: 0.1509\n",
      "Epoch 98/100\n",
      "9000/9000 [==============================] - 0s 10us/step - loss: 0.0447 - val_loss: 0.1509\n",
      "Epoch 99/100\n",
      "9000/9000 [==============================] - 0s 10us/step - loss: 0.0432 - val_loss: 0.1504\n",
      "Epoch 100/100\n",
      "9000/9000 [==============================] - 0s 11us/step - loss: 0.0418 - val_loss: 0.1502\n"
     ]
    }
   ],
   "source": [
    "# Training the model\n",
    "history = model.fit([df['user'], df['item']], df['rating'],\n",
    "                    batch_size=64, epochs=100, validation_split=0.1,\n",
    "                    shuffle=True)"
   ]
  },
  {
   "cell_type": "code",
   "execution_count": 46,
   "metadata": {
    "ExecuteTime": {
     "end_time": "2019-02-24T18:30:30.036145Z",
     "start_time": "2019-02-24T18:30:13.091127Z"
    }
   },
   "outputs": [
    {
     "name": "stdout",
     "output_type": "stream",
     "text": [
      "mse:  0.12675485875360765\n",
      "mae:  0.2937440299987793\n"
     ]
    }
   ],
   "source": [
    "nb_samples = 100\n",
    "mse, mae = 0, 0\n",
    "prediction = 3 # baseline\n",
    "\n",
    "for i in range(nb_samples):\n",
    "    sleep(0.05)\n",
    "    r = requests.get(url=url_predict, params=params)\n",
    "    d = r.json()\n",
    "\n",
    "    # error for last prediction\n",
    "    rating = d['rating']\n",
    "    \n",
    "    # predict next\n",
    "    prediction = model.predict([[next_user], [next_item]])[0][0]\n",
    "    params['predicted_score'] =  prediction\n",
    "    \n",
    "    next_user = d['next_user']\n",
    "    next_item = d['next_item']\n",
    "\n",
    "    mse += (rating - prediction) ** 2\n",
    "    mae += np.abs(rating - prediction)\n",
    "\n",
    "print('mse: ', mse/nb_samples)\n",
    "print('mae: ', mae/nb_samples)"
   ]
  }
 ],
 "metadata": {
  "kernelspec": {
   "display_name": "Python 3",
   "language": "python",
   "name": "python3"
  },
  "language_info": {
   "codemirror_mode": {
    "name": "ipython",
    "version": 3
   },
   "file_extension": ".py",
   "mimetype": "text/x-python",
   "name": "python",
   "nbconvert_exporter": "python",
   "pygments_lexer": "ipython3",
   "version": "3.6.4"
  },
  "toc": {
   "base_numbering": 1,
   "nav_menu": {},
   "number_sections": true,
   "sideBar": true,
   "skip_h1_title": false,
   "title_cell": "Table of Contents",
   "title_sidebar": "Contents",
   "toc_cell": false,
   "toc_position": {},
   "toc_section_display": true,
   "toc_window_display": false
  },
  "varInspector": {
   "cols": {
    "lenName": 16,
    "lenType": 16,
    "lenVar": 40
   },
   "kernels_config": {
    "python": {
     "delete_cmd_postfix": "",
     "delete_cmd_prefix": "del ",
     "library": "var_list.py",
     "varRefreshCmd": "print(var_dic_list())"
    },
    "r": {
     "delete_cmd_postfix": ") ",
     "delete_cmd_prefix": "rm(",
     "library": "var_list.r",
     "varRefreshCmd": "cat(var_dic_list()) "
    }
   },
   "types_to_exclude": [
    "module",
    "function",
    "builtin_function_or_method",
    "instance",
    "_Feature"
   ],
   "window_display": false
  }
 },
 "nbformat": 4,
 "nbformat_minor": 2
}
